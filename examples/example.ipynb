{
 "cells": [
  {
   "cell_type": "markdown",
   "id": "7c3bcb49",
   "metadata": {},
   "source": [
    "# Examples for QMSim.jl\n",
    "\n",
    "This demonstrates the basic functionality of `QMSim.jl` from matrix construction all the way to solving real quantum mechanics problems."
   ]
  },
  {
   "cell_type": "code",
   "execution_count": 1,
   "id": "f2a28f6b",
   "metadata": {},
   "outputs": [
    {
     "name": "stderr",
     "output_type": "stream",
     "text": [
      "\u001b[32m\u001b[1m  Activating\u001b[22m\u001b[39m project at `~/Julia/QMSim.jl/examples`\n"
     ]
    }
   ],
   "source": [
    "# activate the examples environment\n",
    "import Pkg; Pkg.activate(@__DIR__)\n",
    "\n",
    "using Revise\n",
    "using QMSim: MatrixAndRules\n"
   ]
  },
  {
   "cell_type": "code",
   "execution_count": 10,
   "id": "b107c886",
   "metadata": {},
   "outputs": [
    {
     "data": {
      "text/plain": [
       "0×0 Matrix{ComplexF64}"
      ]
     },
     "metadata": {},
     "output_type": "display_data"
    }
   ],
   "source": [
    "mar = MatrixAndRules(Matrix{ComplexF64}, false)\n",
    "\n",
    "mar.matrix"
   ]
  },
  {
   "cell_type": "code",
   "execution_count": 4,
   "id": "30ac0906",
   "metadata": {},
   "outputs": [
    {
     "data": {
      "text/plain": [
       "ComplexF64\u001b[90m (alias for \u001b[39m\u001b[90mComplex{Float64}\u001b[39m\u001b[90m)\u001b[39m"
      ]
     },
     "metadata": {},
     "output_type": "display_data"
    }
   ],
   "source": [
    "eltype(Matrix{ComplexF64})"
   ]
  },
  {
   "cell_type": "code",
   "execution_count": null,
   "id": "bac6d96f",
   "metadata": {},
   "outputs": [],
   "source": []
  }
 ],
 "metadata": {
  "kernelspec": {
   "display_name": "Julia 1.11.5",
   "language": "julia",
   "name": "julia-1.11"
  },
  "language_info": {
   "file_extension": ".jl",
   "mimetype": "application/julia",
   "name": "julia",
   "version": "1.11.5"
  }
 },
 "nbformat": 4,
 "nbformat_minor": 5
}
