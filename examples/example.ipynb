{
 "cells": [
  {
   "cell_type": "markdown",
   "id": "7c3bcb49",
   "metadata": {},
   "source": [
    "# Examples for QMSim.jl\n",
    "\n",
    "This demonstrates the basic functionality of `QMSim.jl` from matrix construction all the way to solving real quantum mechanics problems."
   ]
  },
  {
   "cell_type": "code",
   "execution_count": 1,
   "id": "f71e7df3",
   "metadata": {},
   "outputs": [
    {
     "name": "stderr",
     "output_type": "stream",
     "text": [
      "\u001b[32m\u001b[1m  Activating\u001b[22m\u001b[39m project at `~/Julia/QMSim.jl/examples`\n"
     ]
    }
   ],
   "source": [
    "# activate the examples environment\n",
    "import Pkg; \n",
    "Pkg.activate(@__DIR__)\n",
    "# Pkg.resolve()\n",
    "# Pkg.instantiate()\n",
    "# Pkg.precompile()\n",
    "# Pkg.update()"
   ]
  },
  {
   "cell_type": "code",
   "execution_count": null,
   "id": "f2a28f6b",
   "metadata": {},
   "outputs": [],
   "source": [
    "using Revise\n",
    "using SparseArrays, LinearAlgebra\n",
    "\n",
    "using QMSim: MatrixWithDimensions, add_rule!, DimensionWithSpace, MatrixBuilder!, finalize!, build_matrix!\n",
    "using QMSim: RelativeRule, AbsoluteRule, ExplicitRule\n",
    "\n",
    "import QGas.NumericalTools.ArrayDimensions as AD"
   ]
  },
  {
   "cell_type": "code",
   "execution_count": null,
   "id": "6657b029",
   "metadata": {},
   "outputs": [
    {
     "ename": "MethodError",
     "evalue": "MethodError: no method matching (SparseMatrixCSC{ComplexF64})(::UndefInitializer, ::Int64, ::Int64)\nThe type `SparseMatrixCSC{ComplexF64}` exists, but no method is defined for this combination of argument types when trying to construct it.\n\nClosest candidates are:\n  (SparseMatrixCSC{Tv})(!Matched::UniformScaling, ::Integer, ::Integer) where Tv\n   @ SparseArrays ~/.julia/juliaup/julia-1.11.5+0.aarch64.apple.darwin14/share/julia/stdlib/v1.11/SparseArrays/src/sparsematrix.jl:2199\n  (SparseMatrixCSC{Tv})(!Matched::SparseArrays.AbstractSparseMatrixCSC{Tv}) where Tv\n   @ SparseArrays ~/.julia/juliaup/julia-1.11.5+0.aarch64.apple.darwin14/share/julia/stdlib/v1.11/SparseArrays/src/sparsematrix.jl:749\n  (SparseMatrixCSC{Tv})(!Matched::SparseArrays.AbstractSparseMatrixCSC) where Tv\n   @ SparseArrays ~/.julia/juliaup/julia-1.11.5+0.aarch64.apple.darwin14/share/julia/stdlib/v1.11/SparseArrays/src/sparsematrix.jl:750\n  ...\n",
     "output_type": "error",
     "traceback": [
      "MethodError: no method matching (SparseMatrixCSC{ComplexF64})(::UndefInitializer, ::Int64, ::Int64)\n",
      "The type `SparseMatrixCSC{ComplexF64}` exists, but no method is defined for this combination of argument types when trying to construct it.\n",
      "\n",
      "Closest candidates are:\n",
      "  (SparseMatrixCSC{Tv})(!Matched::UniformScaling, ::Integer, ::Integer) where Tv\n",
      "   @ SparseArrays ~/.julia/juliaup/julia-1.11.5+0.aarch64.apple.darwin14/share/julia/stdlib/v1.11/SparseArrays/src/sparsematrix.jl:2199\n",
      "  (SparseMatrixCSC{Tv})(!Matched::SparseArrays.AbstractSparseMatrixCSC{Tv}) where Tv\n",
      "   @ SparseArrays ~/.julia/juliaup/julia-1.11.5+0.aarch64.apple.darwin14/share/julia/stdlib/v1.11/SparseArrays/src/sparsematrix.jl:749\n",
      "  (SparseMatrixCSC{Tv})(!Matched::SparseArrays.AbstractSparseMatrixCSC) where Tv\n",
      "   @ SparseArrays ~/.julia/juliaup/julia-1.11.5+0.aarch64.apple.darwin14/share/julia/stdlib/v1.11/SparseArrays/src/sparsematrix.jl:750\n",
      "  ...\n",
      "\n",
      "\n",
      "Stacktrace:\n",
      " [1] QMSim.MatrixBuilders.MatrixWithRules(M::Type{SparseMatrixCSC{ComplexF64}}, cache_kwargs::Bool, options::Dict{Symbol, Any})\n",
      "   @ QMSim.MatrixBuilders ~/Julia/QMSim.jl/src/MatrixBuilders.jl:134\n",
      " [2] QMSim.MatrixBuilders.MatrixWithRules(M::Type, cache_kwargs::Bool)\n",
      "   @ QMSim.MatrixBuilders ~/Julia/QMSim.jl/src/MatrixBuilders.jl:143\n",
      " [3] MatrixWithRules\n",
      "   @ ~/Julia/QMSim.jl/src/MatrixBuilders.jl:144 [inlined]\n",
      " [4] MatrixWithBuilder(M::Type, adims::QGas.NumericalTools.ArrayDimensions.Dimensions)\n",
      "   @ QMSim.MatrixBuilders ~/Julia/QMSim.jl/src/MatrixBuilders.jl:364\n",
      " [5] top-level scope\n",
      "   @ ~/Julia/QMSim.jl/examples/jl_notebook_cell_df34fa98e69747e1a8f8a730347b8e2f_W3sZmlsZQ==.jl:8"
     ]
    }
   ],
   "source": [
    "# create an array of physical dimensions for our quantum system to live in, including an example with two space and one spin dimensions\n",
    "\n",
    "dims = AD.Dimensions(\n",
    "    DimensionWithSpace(; x0=-10.0, dx=1.0, npnts=21, unit=\"X Momentum\", periodic=true, spatial=true),\n",
    "    # DimensionWithSpace(; x0=-10.0, dx=1.0, npnts=21, unit=\"X Momentum\", periodic=true, spatial=true),\n",
    ")\n",
    "\n",
    "mwb = MatrixWithDimensions(SparseMatrixCSC{ComplexF64}, dims)\n",
    "\n",
    "add_rule!(mwb, (x, y) -> 1.0, [1,])\n",
    "add_rule!(mwb, (x, y) -> -1.0, [-1,])\n",
    "add_rule!(mwb, Diagonal(1:21) )\n",
    "\n",
    "finalize!(mwb)\n",
    "\n",
    "mwb.mat_builder.actions[1]\n",
    "\n",
    "build_matrix!(mwb)\n",
    "\n",
    "mwb.mat_rules.matrix"
   ]
  },
  {
   "cell_type": "code",
   "execution_count": null,
   "id": "faa9d01c",
   "metadata": {},
   "outputs": [],
   "source": [
    "# Note to self need to create more general that works for all target matrix types."
   ]
  }
 ],
 "metadata": {
  "kernelspec": {
   "display_name": "Julia 1.11.5",
   "language": "julia",
   "name": "julia-1.11"
  },
  "language_info": {
   "file_extension": ".jl",
   "mimetype": "application/julia",
   "name": "julia",
   "version": "1.11.5"
  }
 },
 "nbformat": 4,
 "nbformat_minor": 5
}
