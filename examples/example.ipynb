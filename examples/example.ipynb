{
 "cells": [
  {
   "cell_type": "markdown",
   "id": "7c3bcb49",
   "metadata": {},
   "source": [
    "# Examples for QMSim.jl\n",
    "\n",
    "This demonstrates the basic functionality of `QMSim.jl` from matrix construction all the way to solving real quantum mechanics problems."
   ]
  },
  {
   "cell_type": "code",
   "execution_count": 1,
   "id": "2020de22",
   "metadata": {},
   "outputs": [
    {
     "name": "stderr",
     "output_type": "stream",
     "text": [
      "\u001b[32m\u001b[1m  Activating\u001b[22m\u001b[39m project at `~/Julia/QMSim.jl/examples`\n",
      "\u001b[32m\u001b[1m   Resolving\u001b[22m\u001b[39m package versions...\n",
      "\u001b[32m\u001b[1m  No Changes\u001b[22m\u001b[39m to `~/Julia/QMSim.jl/examples/Project.toml`\n",
      "\u001b[32m\u001b[1m  No Changes\u001b[22m\u001b[39m to `~/Julia/QMSim.jl/examples/Manifest.toml`\n",
      "\u001b[92m\u001b[1mPrecompiling\u001b[22m\u001b[39m project...\n",
      "   1578.6 ms\u001b[32m  ✓ \u001b[39mQMSim\n",
      "  1 dependency successfully precompiled in 2 seconds. 116 already precompiled.\n"
     ]
    }
   ],
   "source": [
    "# activate the examples environment\n",
    "import Pkg;\n",
    "Pkg.activate(@__DIR__)\n",
    "Pkg.add(\"Arpack\")\n",
    "# Pkg.resolve()\n",
    "# Pkg.instantiate()\n",
    "# Pkg.precompile()\n",
    "# Pkg.update()"
   ]
  },
  {
   "cell_type": "code",
   "execution_count": 30,
   "id": "f2a28f6b",
   "metadata": {},
   "outputs": [],
   "source": [
    "using Revise\n",
    "using Profile\n",
    "using SparseArrays, LinearAlgebra\n",
    "\n",
    "import QGas.NumericalTools.ArrayDimensions as AD\n",
    "\n",
    "using QMSim"
   ]
  },
  {
   "cell_type": "markdown",
   "id": "2f8b76e4",
   "metadata": {},
   "source": [
    "## Demonstrate the overall setup of a matrix\n",
    "\n",
    "This does not solve any problems."
   ]
  },
  {
   "cell_type": "code",
   "execution_count": 3,
   "id": "c1a27d39",
   "metadata": {},
   "outputs": [
    {
     "data": {
      "text/plain": [
       "5×5 MatrixWithRules{ComplexF64, SparseMatrixCSC{ComplexF64}}:\n",
       "  1.0+0.0im  -2.0+0.0im   0.0+0.0im   0.0+0.0im  -2.0+0.0im\n",
       " -2.0+0.0im   2.0+0.0im  -2.0+0.0im   0.0+0.0im   0.0+0.0im\n",
       "  0.0+0.0im  -2.0+0.0im   3.0+0.0im  -2.0+0.0im   0.0+0.0im\n",
       "  0.0+0.0im   0.0+0.0im  -2.0+0.0im   4.0+0.0im  -2.0+0.0im\n",
       " -2.0+0.0im   0.0+0.0im   0.0+0.0im  -2.0+0.0im   5.0+0.0im"
      ]
     },
     "metadata": {},
     "output_type": "display_data"
    }
   ],
   "source": [
    "# create an array of physical dimensions for our quantum system to live in, including an example with two space and one spin dimensions\n",
    "\n",
    "dims = AD.Dimensions(\n",
    "    DimensionWithSpace(; x0=-10.0, dx=1.0, npnts=5, unit=\"X Momentum\", periodic=true, spatial=true),\n",
    "    # DimensionWithSpace(; x0=-1.0, dx=1.0, npnts=3, unit=\"Spin\", periodic=true, spatial=true),\n",
    ")\n",
    "\n",
    "\"\"\"\n",
    "    build_rules!(mwr::MatrixWithRules)\n",
    "\n",
    "add required rules to the matrix\n",
    "\"\"\"\n",
    "function build_rules!(mwr::MatrixWithRules)\n",
    "\n",
    "    function ham_tunneling(x, y; J=1.0)\n",
    "        return -J\n",
    "    end\n",
    "\n",
    "    add_rule!(mwr, RelativeRule, ham_tunneling, [1,])\n",
    "    add_rule!(mwr, RelativeRule, ham_tunneling, [-1,])\n",
    "    add_rule!(mwr, ExplicitRule, Diagonal(collect(1:5) .+ 0.0im))\n",
    "    return mwr\n",
    "end\n",
    "\n",
    "# See how we define the type of the matrix we want!\n",
    "mwr = MatrixWithRules(SparseMatrixCSC{ComplexF64}, dims)\n",
    "\n",
    "build_rules!(mwr)\n",
    "\n",
    "generate_builders!(mwr)\n",
    "\n",
    "build!(mwr; J=2.0)\n",
    "\n",
    "mwr"
   ]
  },
  {
   "cell_type": "markdown",
   "id": "56c66d77",
   "metadata": {},
   "source": [
    "Now we do the same thing, but for more than one matrix:"
   ]
  },
  {
   "cell_type": "code",
   "execution_count": 4,
   "id": "7e8196e8",
   "metadata": {},
   "outputs": [
    {
     "data": {
      "text/plain": [
       "5×5 SparseMatrixCSC{ComplexF64, Int64} with 15 stored entries:\n",
       "  1.0+0.0im  -2.0+0.0im       ⋅           ⋅      -2.0+0.0im\n",
       " -2.0+0.0im   2.0+0.0im  -2.0+0.0im       ⋅           ⋅    \n",
       "      ⋅      -2.0+0.0im   3.0+0.0im  -2.0+0.0im       ⋅    \n",
       "      ⋅           ⋅      -2.0+0.0im   4.0+0.0im  -2.0+0.0im\n",
       " -2.0+0.0im       ⋅           ⋅      -2.0+0.0im   5.0+0.0im"
      ]
     },
     "metadata": {},
     "output_type": "display_data"
    }
   ],
   "source": [
    "mwrs = MatricesWithRules(SparseMatrixCSC{ComplexF64}, dims)\n",
    "\n",
    "add_matrix!(mwrs, :tunneling)\n",
    "add_matrix!(mwrs, :potential)\n",
    "\n",
    "function ham_tunneling(x, y; J=1.0)\n",
    "    return -J\n",
    "end\n",
    "\n",
    "add_rule!(mwrs, :tunneling, RelativeRule, ham_tunneling, [1,])\n",
    "add_rule!(mwrs, :tunneling, RelativeRule, ham_tunneling, [-1,])\n",
    "add_rule!(mwrs, :potential, ExplicitRule, Diagonal(collect(1:5) .+ 0.0im))\n",
    "\n",
    "generate_builders!(mwrs)\n",
    "\n",
    "build!(mwrs; J=2.0)\n",
    "\n",
    "mwrs.matrix"
   ]
  },
  {
   "cell_type": "code",
   "execution_count": 5,
   "id": "83aaa0be",
   "metadata": {},
   "outputs": [
    {
     "data": {
      "text/plain": [
       "5×5 SparseMatrixCSC{ComplexF64, Int64} with 15 stored entries:\n",
       "  1.0+0.0im  -2.0+0.0im       ⋅           ⋅      -2.0+0.0im\n",
       " -2.0+0.0im   2.0+0.0im  -2.0+0.0im       ⋅           ⋅    \n",
       "      ⋅      -2.0+0.0im   3.0+0.0im  -2.0+0.0im       ⋅    \n",
       "      ⋅           ⋅      -2.0+0.0im   4.0+0.0im  -2.0+0.0im\n",
       " -2.0+0.0im       ⋅           ⋅      -2.0+0.0im   5.0+0.0im"
      ]
     },
     "metadata": {},
     "output_type": "display_data"
    }
   ],
   "source": [
    "mwrs = MatricesWithRules(SparseMatrixCSC{ComplexF64}, dims)\n",
    "\n",
    "add_matrix!(mwrs, :tunneling)\n",
    "add_matrix!(mwrs, :potential)\n",
    "\n",
    "function ham_tunneling(x, y; J=1.0)\n",
    "    return -J\n",
    "end\n",
    "\n",
    "add_rule!(mwrs, :tunneling, RelativeRule, ham_tunneling, [1,])\n",
    "add_rule!(mwrs, :tunneling, RelativeRule, ham_tunneling, [-1,])\n",
    "add_rule!(mwrs, :potential, ExplicitRule, Diagonal(collect(1:5) .+ 0.0im))\n",
    "\n",
    "generate_builders!(mwrs)\n",
    "\n",
    "build!(mwrs; J=2.0)\n",
    "\n",
    "mwrs.matrix"
   ]
  },
  {
   "cell_type": "markdown",
   "id": "cf5dd4ce",
   "metadata": {},
   "source": [
    "At this point this is not all that useful, but the main point is that with slightly more syntactic sugar we can write code to define pretty much any physics problem!"
   ]
  },
  {
   "cell_type": "markdown",
   "id": "260e8865",
   "metadata": {},
   "source": [
    "## Solve specific problems\n",
    "\n",
    "The existing code already encapsulates any abstract matrix.  There is some work required to make this work efficiently for both dense and sparse matrices."
   ]
  },
  {
   "cell_type": "code",
   "execution_count": 28,
   "id": "faa9d01c",
   "metadata": {},
   "outputs": [
    {
     "data": {
      "text/plain": [
       "5001×5001 QMSolver{ComplexF64, Matrix{ComplexF64}}:\n",
       "  0.0+0.0im  -2.0+0.0im   0.0+0.0im  …   0.0+0.0im   0.0+0.0im  -2.0+0.0im\n",
       " -2.0-0.0im   0.0+0.0im  -2.0+0.0im      0.0+0.0im   0.0+0.0im   0.0+0.0im\n",
       "  0.0-0.0im  -2.0-0.0im   0.0+0.0im      0.0+0.0im   0.0+0.0im   0.0+0.0im\n",
       "  0.0-0.0im   0.0-0.0im  -2.0-0.0im      0.0+0.0im   0.0+0.0im   0.0+0.0im\n",
       "  0.0-0.0im   0.0-0.0im   0.0-0.0im      0.0+0.0im   0.0+0.0im   0.0+0.0im\n",
       "  0.0-0.0im   0.0-0.0im   0.0-0.0im  …   0.0+0.0im   0.0+0.0im   0.0+0.0im\n",
       "  0.0-0.0im   0.0-0.0im   0.0-0.0im      0.0+0.0im   0.0+0.0im   0.0+0.0im\n",
       "  0.0-0.0im   0.0-0.0im   0.0-0.0im      0.0+0.0im   0.0+0.0im   0.0+0.0im\n",
       "  0.0-0.0im   0.0-0.0im   0.0-0.0im      0.0+0.0im   0.0+0.0im   0.0+0.0im\n",
       "  0.0-0.0im   0.0-0.0im   0.0-0.0im      0.0+0.0im   0.0+0.0im   0.0+0.0im\n",
       "     ⋮                               ⋱                              ⋮\n",
       "  0.0-0.0im   0.0-0.0im   0.0-0.0im      0.0+0.0im   0.0+0.0im   0.0+0.0im\n",
       "  0.0-0.0im   0.0-0.0im   0.0-0.0im      0.0+0.0im   0.0+0.0im   0.0+0.0im\n",
       "  0.0-0.0im   0.0-0.0im   0.0-0.0im      0.0+0.0im   0.0+0.0im   0.0+0.0im\n",
       "  0.0-0.0im   0.0-0.0im   0.0-0.0im  …   0.0+0.0im   0.0+0.0im   0.0+0.0im\n",
       "  0.0-0.0im   0.0-0.0im   0.0-0.0im      0.0+0.0im   0.0+0.0im   0.0+0.0im\n",
       "  0.0-0.0im   0.0-0.0im   0.0-0.0im     -2.0+0.0im   0.0+0.0im   0.0+0.0im\n",
       "  0.0-0.0im   0.0-0.0im   0.0-0.0im      0.0+0.0im  -2.0+0.0im   0.0+0.0im\n",
       "  0.0-0.0im   0.0-0.0im   0.0-0.0im     -2.0-0.0im   0.0+0.0im  -2.0+0.0im\n",
       " -2.0-0.0im   0.0-0.0im   0.0-0.0im  …   0.0-0.0im  -2.0-0.0im   0.0+0.0im"
      ]
     },
     "metadata": {},
     "output_type": "display_data"
    }
   ],
   "source": [
    "dims = AD.Dimensions(\n",
    "    DimensionWithSpace(; x0=-10.0, dx=1.0, npnts=5001, unit=\"X Momentum\", periodic=true, spatial=true),\n",
    "    # DimensionWithSpace(; x0=-1.0, dx=1.0, npnts=3, unit=\"Spin\", periodic=true, spatial=true),\n",
    ")\n",
    "\n",
    "# wms = QMSolver(SparseMatrixCSC{ComplexF64}, dims; num_states=6, wrap=Hermitian)\n",
    "wms = QMSolver(Matrix{ComplexF64}, dims; num_states=6, wrap=Hermitian)\n",
    "\n",
    "add_matrix!(wms, :tunneling)\n",
    "add_matrix!(wms, :potential)\n",
    "\n",
    "function ham_tunneling(x, y; J=1.0)\n",
    "    return -J\n",
    "end\n",
    "\n",
    "add_rule!(wms, :tunneling, RelativeRule, ham_tunneling, [1,])\n",
    "add_rule!(wms, :tunneling, RelativeRule, ham_tunneling, [-1,])\n",
    "\n",
    "generate_builders!(wms)\n",
    "\n",
    "build!(wms; J=2.0)"
   ]
  },
  {
   "cell_type": "code",
   "execution_count": null,
   "id": "575409e9",
   "metadata": {},
   "outputs": [
    {
     "data": {
      "text/plain": [
       "5001-element Vector{ComplexF64}:\n",
       "                -4.0 + 0.0im\n",
       " -3.9999968429899377 + 0.0im\n",
       " -3.9999968429899373 + 0.0im\n",
       "  -3.999987371964733 + 0.0im\n",
       " -3.9999873719647328 + 0.0im\n",
       " -3.9999715869393366 + 0.0im\n",
       " -3.9999715869393366 + 0.0im\n",
       "  -3.999949487938666 + 0.0im\n",
       " -3.9999494879386654 + 0.0im\n",
       "  -3.999921074997603 + 0.0im\n",
       "                     ⋮\n",
       "  3.9999360707081135 + 0.0im\n",
       "  3.9999613266839638 + 0.0im\n",
       "  3.9999613266839638 + 0.0im\n",
       "  3.9999802687007353 + 0.0im\n",
       "  3.9999802687007353 + 0.0im\n",
       "   3.999992896728527 + 0.0im\n",
       "   3.999992896728527 + 0.0im\n",
       "  3.9999992107474065 + 0.0im\n",
       "  3.9999992107474065 + 0.0im"
      ]
     },
     "metadata": {},
     "output_type": "display_data"
    }
   ],
   "source": [
    "eigensystem!(wms; J=2.0)\n",
    "wms.eigenvalues"
   ]
  },
  {
   "cell_type": "code",
   "execution_count": null,
   "id": "3943613c",
   "metadata": {},
   "outputs": [],
   "source": []
  }
 ],
 "metadata": {
  "kernelspec": {
   "display_name": "Julia 1.11.5",
   "language": "julia",
   "name": "julia-1.11"
  },
  "language_info": {
   "file_extension": ".jl",
   "mimetype": "application/julia",
   "name": "julia",
   "version": "1.11.5"
  }
 },
 "nbformat": 4,
 "nbformat_minor": 5
}
