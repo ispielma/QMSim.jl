{
 "cells": [
  {
   "cell_type": "markdown",
   "id": "7c3bcb49",
   "metadata": {},
   "source": [
    "# Examples for QMSim.jl\n",
    "\n",
    "This demonstrates the basic functionality of `QMSim.jl` from matrix construction all the way to solving real quantum mechanics problems."
   ]
  },
  {
   "cell_type": "code",
   "execution_count": 1,
   "id": "2020de22",
   "metadata": {},
   "outputs": [
    {
     "name": "stderr",
     "output_type": "stream",
     "text": [
      "\u001b[32m\u001b[1m  Activating\u001b[22m\u001b[39m project at `~/Julia/QMSim.jl/examples`\n"
     ]
    }
   ],
   "source": [
    "# activate the examples environment\n",
    "import Pkg;\n",
    "Pkg.activate(@__DIR__)\n",
    "# Pkg.add(\"Term\")\n",
    "# Pkg.resolve()\n",
    "# Pkg.instantiate()\n",
    "# Pkg.precompile()\n",
    "# Pkg.update()"
   ]
  },
  {
   "cell_type": "code",
   "execution_count": 2,
   "id": "f2a28f6b",
   "metadata": {},
   "outputs": [
    {
     "name": "stderr",
     "output_type": "stream",
     "text": [
      "WARNING: could not import QMSim.set_defaults! into ERD_SOC\n"
     ]
    }
   ],
   "source": [
    "ENV[\"COLUMNS\"] = 160\n",
    "\n",
    "using Revise\n",
    "using SparseArrays, LinearAlgebra\n",
    "\n",
    "using QGas.NumericalTools.ArrayDimensions: Dimensions\n",
    "\n",
    "using QMSim\n",
    "using QMSim.Solvers\n",
    "\n",
    "import QMSim: error_check"
   ]
  },
  {
   "cell_type": "markdown",
   "id": "fa03ac66",
   "metadata": {},
   "source": [
    "## Demonstrate the creation of some simple rules"
   ]
  },
  {
   "cell_type": "code",
   "execution_count": 3,
   "id": "dba76eae",
   "metadata": {},
   "outputs": [
    {
     "data": {
      "text/plain": [
       "ExplicitRule{Diagonal{ComplexF64, Vector{ComplexF64}}}(ComplexF64[1.0 + 0.0im 0.0 + 0.0im … 0.0 + 0.0im 0.0 + 0.0im; 0.0 + 0.0im 2.0 + 0.0im … 0.0 + 0.0im 0.0 + 0.0im; … ; 0.0 + 0.0im 0.0 + 0.0im … 4.0 + 0.0im 0.0 + 0.0im; 0.0 + 0.0im 0.0 + 0.0im … 0.0 + 0.0im 5.0 + 0.0im])"
      ]
     },
     "metadata": {},
     "output_type": "display_data"
    }
   ],
   "source": [
    "    function ham_tunneling(x, y; J=1.0)\n",
    "        return -J\n",
    "    end\n",
    "\n",
    "    RelativeRule(ham_tunneling, [1,])\n",
    "    ExplicitRule( Diagonal(collect(1:5) .+ 0.0im) )"
   ]
  },
  {
   "cell_type": "markdown",
   "id": "2f8b76e4",
   "metadata": {},
   "source": [
    "## Demonstrate the overall setup of a matrix\n",
    "\n",
    "This does not solve any problems."
   ]
  },
  {
   "cell_type": "code",
   "execution_count": 4,
   "id": "1f9beffa",
   "metadata": {},
   "outputs": [
    {
     "data": {
      "text/plain": [
       "5×5 MatrixWithRules{ComplexF64, SparseMatrixCSC{ComplexF64}}:\n",
       "  1.0+0.0im  -2.0+0.0im   0.0+0.0im   0.0+0.0im  -2.0+0.0im\n",
       " -2.0+0.0im   2.0+0.0im  -2.0+0.0im   0.0+0.0im   0.0+0.0im\n",
       "  0.0+0.0im  -2.0+0.0im   3.0+0.0im  -2.0+0.0im   0.0+0.0im\n",
       "  0.0+0.0im   0.0+0.0im  -2.0+0.0im   4.0+0.0im  -2.0+0.0im\n",
       " -2.0+0.0im   0.0+0.0im   0.0+0.0im  -2.0+0.0im   5.0+0.0im"
      ]
     },
     "metadata": {},
     "output_type": "display_data"
    }
   ],
   "source": [
    "# create an array of physical dimensions for our quantum system to live in, including an example with two space and one spin dimensions\n",
    "\n",
    "dims = Dimensions(\n",
    "    DimensionWithSpace(; x0=-10.0, dx=1.0, npnts=5, unit=\"X Momentum\", periodic=true, spatial=true),\n",
    "    # DimensionWithSpace(; x0=-1.0, dx=1.0, npnts=3, unit=\"Spin\", periodic=true, spatial=true),\n",
    ")\n",
    "\n",
    "\"\"\"\n",
    "    build_rules!(mwr::MatrixWithRules)\n",
    "\n",
    "add required rules to the matrix\n",
    "\"\"\"\n",
    "function build_rules!(mwr::MatrixWithRules)\n",
    "\n",
    "    function ham_tunneling(x, y; J=1.0)\n",
    "        return -J\n",
    "    end\n",
    "\n",
    "    add_rule!(mwr, RelativeRule, ham_tunneling, [1,])\n",
    "    add_rule!(mwr, RelativeRule, ham_tunneling, [-1,])\n",
    "    add_rule!(mwr, ExplicitRule, Diagonal(collect(1:5) .+ 0.0im))\n",
    "    return mwr\n",
    "end\n",
    "\n",
    "# See how we define the type of the matrix we want!\n",
    "mwr = MatrixWithRules(SparseMatrixCSC{ComplexF64}, dims)\n",
    "\n",
    "build_rules!(mwr)\n",
    "\n",
    "generate_builders!(mwr)\n",
    "\n",
    "build!(mwr; J=2.0)\n",
    "\n",
    "mwr"
   ]
  },
  {
   "cell_type": "markdown",
   "id": "56c66d77",
   "metadata": {},
   "source": [
    "Now we do the same thing, but for more than one matrix:"
   ]
  },
  {
   "cell_type": "code",
   "execution_count": 5,
   "id": "0e268e3b",
   "metadata": {},
   "outputs": [
    {
     "data": {
      "text/plain": [
       "5×5 SparseMatrixCSC{ComplexF64, Int64} with 15 stored entries:\n",
       "  1.0+0.0im  -2.0+0.0im       ⋅           ⋅      -2.0+0.0im\n",
       " -2.0+0.0im   2.0+0.0im  -2.0+0.0im       ⋅           ⋅    \n",
       "      ⋅      -2.0+0.0im   3.0+0.0im  -2.0+0.0im       ⋅    \n",
       "      ⋅           ⋅      -2.0+0.0im   4.0+0.0im  -2.0+0.0im\n",
       " -2.0+0.0im       ⋅           ⋅      -2.0+0.0im   5.0+0.0im"
      ]
     },
     "metadata": {},
     "output_type": "display_data"
    }
   ],
   "source": [
    "mwrs = MatricesWithRules(SparseMatrixCSC{ComplexF64}, dims)\n",
    "\n",
    "add_leaf!(mwrs, :tunneling)\n",
    "add_leaf!(mwrs, :potential)\n",
    "\n",
    "function ham_tunneling(x, y; J=1.0)\n",
    "    return -J\n",
    "end\n",
    "\n",
    "add_rule!(mwrs, :tunneling, RelativeRule, ham_tunneling, [1,])\n",
    "add_rule!(mwrs, :tunneling, RelativeRule, ham_tunneling, [-1,])\n",
    "add_rule!(mwrs, :potential, ExplicitRule, Diagonal(collect(1:5) .+ 0.0im))\n",
    "\n",
    "generate_builders!(mwrs)\n",
    "\n",
    "build!(mwrs; J=2.0)\n",
    "\n",
    "mwrs.matrix"
   ]
  },
  {
   "cell_type": "code",
   "execution_count": 6,
   "id": "83aaa0be",
   "metadata": {},
   "outputs": [
    {
     "data": {
      "text/plain": [
       "5×5 SparseMatrixCSC{ComplexF64, Int64} with 15 stored entries:\n",
       "  1.0+0.0im  -4.0+0.0im       ⋅           ⋅      -4.0+0.0im\n",
       " -4.0+0.0im   2.0+0.0im  -4.0+0.0im       ⋅           ⋅    \n",
       "      ⋅      -4.0+0.0im   3.0+0.0im  -4.0+0.0im       ⋅    \n",
       "      ⋅           ⋅      -4.0+0.0im   4.0+0.0im  -4.0+0.0im\n",
       " -4.0+0.0im       ⋅           ⋅      -4.0+0.0im   5.0+0.0im"
      ]
     },
     "metadata": {},
     "output_type": "display_data"
    }
   ],
   "source": [
    "mwrs = MatricesWithRules(SparseMatrixCSC{ComplexF64}, dims)\n",
    "\n",
    "add_leaf!(mwrs, :tunneling)\n",
    "add_leaf!(mwrs, :potential)\n",
    "\n",
    "function ham_tunneling(x, y; J=1.0)\n",
    "    return -J\n",
    "end\n",
    "\n",
    "add_rule!(mwrs, :tunneling, RelativeRule, ham_tunneling, [1,])\n",
    "add_rule!(mwrs, :tunneling, RelativeRule, ham_tunneling, [-1,])\n",
    "add_rule!(mwrs, :potential, ExplicitRule, Diagonal(collect(1:5) .+ 0.0im))\n",
    "\n",
    "set_default_kwargs!(mwrs, :tunneling; J=4.0)\n",
    "\n",
    "generate_builders!(mwrs)\n",
    "\n",
    "build!(mwrs)\n",
    "\n",
    "mwrs.matrix"
   ]
  },
  {
   "cell_type": "markdown",
   "id": "cf5dd4ce",
   "metadata": {},
   "source": [
    "At this point this is not all that useful, but the main point is that with slightly more syntactic sugar we can write code to define pretty much any physics problem!"
   ]
  },
  {
   "cell_type": "markdown",
   "id": "260e8865",
   "metadata": {},
   "source": [
    "## Solve specific problems\n",
    "\n",
    "The existing code already encapsulates any abstract matrix.  There is some work required to make this work efficiently for both dense and sparse matrices."
   ]
  },
  {
   "cell_type": "markdown",
   "id": "0ab8dc54",
   "metadata": {},
   "source": [
    "### ERD SOC\n",
    "\n",
    "I am going to start with the simple example of ERD Spin orbit coupling to show the behavior of a completed module."
   ]
  },
  {
   "cell_type": "code",
   "execution_count": 20,
   "id": "27e0809c",
   "metadata": {},
   "outputs": [
    {
     "data": {
      "text/plain": [
       "3-element Vector{ComplexF64}:\n",
       " -0.6148924330173668 + 0.0im\n",
       "  0.9728183395439645 + 0.0im\n",
       "  1.6720740934734044 + 0.0im"
      ]
     },
     "metadata": {},
     "output_type": "display_data"
    }
   ],
   "source": [
    "# Start with the dimensions for F = 1\n",
    "dims = Dimensions(\n",
    "    DimensionWithSpace(; x0=-1.0, dx=1.0, npnts=3, unit=\"Spin\", periodic=false, spatial=false),\n",
    ")\n",
    "\n",
    "solver = ERD_SOC_Solver(dims)\n",
    "\n",
    "build!(solver)\n",
    "\n",
    "eigensystem!(solver.mwrs; q=0.1, Ω=1.0im)\n",
    "\n",
    "solver.mwrs.eigenvalues"
   ]
  },
  {
   "cell_type": "markdown",
   "id": "20d46e77",
   "metadata": {},
   "source": [
    "### Other examples\n",
    "\n",
    "Here is a more general example for a dense matrix including performance profiling"
   ]
  },
  {
   "cell_type": "code",
   "execution_count": 8,
   "id": "faa9d01c",
   "metadata": {},
   "outputs": [
    {
     "data": {
      "text/plain": [
       "401-element Vector{ComplexF64}:\n",
       " -2.1884719226525088e-16 + 0.0im\n",
       "   0.0004910119951010936 + 0.0im\n",
       "   0.0004910119951014893 + 0.0im\n",
       "   0.0019639274340130723 + 0.0im\n",
       "    0.001963927434013853 + 0.0im\n",
       "    0.004418384707162504 + 0.0im\n",
       "    0.004418384707162711 + 0.0im\n",
       "    0.007853781230567063 + 0.0im\n",
       "    0.007853781230567142 + 0.0im\n",
       "    0.012269273593776529 + 0.0im\n",
       "                         ⋮\n",
       "       7.990060922452623 + 0.0im\n",
       "       7.993986487366496 + 0.0im\n",
       "       7.993986487366498 + 0.0im\n",
       "      7.9969315046435865 + 0.0im\n",
       "      7.9969315046435865 + 0.0im\n",
       "      7.9988952512644875 + 0.0im\n",
       "       7.998895251264488 + 0.0im\n",
       "       7.999877245117628 + 0.0im\n",
       "        7.99987724511763 + 0.0im"
      ]
     },
     "metadata": {},
     "output_type": "display_data"
    }
   ],
   "source": [
    "dims = Dimensions(\n",
    "    DimensionWithSpace(; x0=-10.0, dx=1.0, npnts=401, unit=\"X Momentum\", periodic=true, spatial=true),\n",
    ")\n",
    "\n",
    "qms = QMSolver(Matrix{ComplexF64}, dims; num_states=6, wrap=Hermitian)\n",
    "\n",
    "add_leaf!(qms, :tunneling)\n",
    "add_leaf!(qms, :potential)\n",
    "add_rule!(qms, :potential, ExplicitRule, Diagonal(4 .* ones(ComplexF64, 401)))\n",
    "\n",
    "function ham_tunneling(x, y; J=1.0)\n",
    "    return -J\n",
    "end\n",
    "\n",
    "add_rule!(qms, :tunneling, RelativeRule, ham_tunneling, [1,])\n",
    "add_rule!(qms, :tunneling, RelativeRule, ham_tunneling, [-1,])\n",
    "\n",
    "generate_builders!(qms)\n",
    "\n",
    "eigensystem!(qms; J=2.0)\n",
    "qms.eigenvalues"
   ]
  },
  {
   "cell_type": "code",
   "execution_count": 9,
   "id": "364191dd",
   "metadata": {},
   "outputs": [
    {
     "ename": "MethodError",
     "evalue": "MethodError: no method matching eigensystem!(::NpodSolver{ComplexF64, Matrix{ComplexF64}}; Ωs::Vector{Float64})\nThe function `eigensystem!` exists, but no method is defined for this combination of argument types.\n\nClosest candidates are:\n  eigensystem!(!Matched::QMSolver; names, which, kwargs...)\n   @ QMSim ~/Julia/QMSim.jl/src/MatrixSolvers.jl:109\n",
     "output_type": "error",
     "traceback": [
      "MethodError: no method matching eigensystem!(::NpodSolver{ComplexF64, Matrix{ComplexF64}}; Ωs::Vector{Float64})\n",
      "The function `eigensystem!` exists, but no method is defined for this combination of argument types.\n",
      "\n",
      "Closest candidates are:\n",
      "  eigensystem!(!Matched::QMSolver; names, which, kwargs...)\n",
      "   @ QMSim ~/Julia/QMSim.jl/src/MatrixSolvers.jl:109\n",
      "\n",
      "\n",
      "Stacktrace:\n",
      " [1] top-level scope\n",
      "   @ ~/Julia/QMSim.jl/examples/jl_notebook_cell_df34fa98e69747e1a8f8a730347b8e2f_X50sZmlsZQ==.jl:78"
     ]
    }
   ],
   "source": [
    "\"\"\"\n",
    "    NpodSolver <: AbstractMatrixSolver\n",
    "\n",
    "A subtype of `AbstractMatrixSolver` that setups and solves the N-pod problem.  This describes two-level atom, a lambda-scheme, a tripod, and anything with one level coupled to N-sub-levels. \n",
    "\"\"\"\n",
    "mutable struct NpodSolver{T, M<:AbstractMatrix{T}} <: AbstractMatrixSolver{T,M}\n",
    "    shared::MatrixSharedData\n",
    "    mwrs::QMSolver{T, M}\n",
    "    N::Int # number of sub-levels (caps by convention here)\n",
    "end\n",
    "issolver(::Type{<:NpodSolver}) = SolverTrait()\n",
    "\n",
    "function NpodSolver(adims::Dimensions)\n",
    "\n",
    "    shared = MatrixSharedData(adims)    \n",
    "\n",
    "    mwrs = QMSolver(Matrix{ComplexF64}, shared)\n",
    "\n",
    "    NpodSolver(shared, mwrs, dim(mwrs))\n",
    "end\n",
    "\n",
    "\"\"\"\n",
    "    error_checks(solver::NpodSolver)\n",
    "\n",
    "This will check that the N-pod solver is setup correctly.\n",
    "\"\"\"\n",
    "function error_check(solver::NpodSolver)\n",
    "    if ndims(get_dimensions(solver)) != 1\n",
    "        throw(ArgumentError(\"N-pod solver must have a single dimension\"))\n",
    "    end\n",
    "\n",
    "    error_check(get_leaf(solver))\n",
    "end\n",
    "\n",
    "\"\"\"\n",
    "    build_rules!(nps::NpodSolver)\n",
    "\n",
    "This will configure all the rules for the N-pod solver.  We assume that the first\n",
    "state in the basis is the state which is coupled to the remaining levels.\n",
    "\"\"\"\n",
    "function build_rules!(solver::NpodSolver)\n",
    "\n",
    "    add_leaf!(solver, :hamiltonian)\n",
    "\n",
    "    function coupling(x0, x1; Ωs=[1.0, 1.0, 1.0, 1.0, 1.0])\n",
    "        Δ = Int(x0[1] - x1[1])\n",
    "        Ω = Δ > 0 ? Ωs[Δ] : conj(Ωs[-Δ])\n",
    "        return Ω\n",
    "    end\n",
    "\n",
    "    i = 1\n",
    "    for j in 2:solver.N\n",
    "        add_rule!(solver, :hamiltonian, ElementRule, coupling, [i,], [j,])\n",
    "        add_rule!(solver, :hamiltonian, ElementRule, coupling, [j,], [i,])\n",
    "    end\n",
    "\n",
    "    add_rule!(solver, :hamiltonian, ExplicitRule, Diagonal(4 .* ones(ComplexF64, 5)))\n",
    "\n",
    "\n",
    "    set_default_kwargs!(solver, :hamiltonian) # TODO: need to implement this for links.\n",
    "end\n",
    "\n",
    "#\n",
    "# Test it out!\n",
    "#\n",
    "\n",
    "dims = Dimensions(\n",
    "    DimensionWithSpace(; x0=0, dx=1.0, npnts=5, unit=\"Internal State\", periodic=false, spatial=false),\n",
    ")\n",
    "\n",
    "solver = NpodSolver(dims)\n",
    "error_check(solver)\n",
    "\n",
    "build_rules!(solver) # Todo generate_builders!(qms) vs build rules\n",
    "\n",
    "generate_builders!(solver)\n",
    "\n",
    "eigensystem!(solver; Ωs=[1.0, 2.0, 3.0, 4.0, 5.0])\n"
   ]
  },
  {
   "cell_type": "code",
   "execution_count": 10,
   "id": "07b85262",
   "metadata": {},
   "outputs": [],
   "source": []
  }
 ],
 "metadata": {
  "kernelspec": {
   "display_name": "Julia 1.11.5",
   "language": "julia",
   "name": "julia-1.11"
  },
  "language_info": {
   "file_extension": ".jl",
   "mimetype": "application/julia",
   "name": "julia",
   "version": "1.11.5"
  }
 },
 "nbformat": 4,
 "nbformat_minor": 5
}
