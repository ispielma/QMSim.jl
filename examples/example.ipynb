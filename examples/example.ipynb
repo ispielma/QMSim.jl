{
 "cells": [
  {
   "cell_type": "markdown",
   "id": "7c3bcb49",
   "metadata": {},
   "source": [
    "# Examples for QMSim.jl\n",
    "\n",
    "This demonstrates the basic functionality of `QMSim.jl` from matrix construction all the way to solving real quantum mechanics problems."
   ]
  },
  {
   "cell_type": "code",
   "execution_count": 1,
   "id": "2020de22",
   "metadata": {},
   "outputs": [
    {
     "name": "stderr",
     "output_type": "stream",
     "text": [
      "\u001b[32m\u001b[1m  Activating\u001b[22m\u001b[39m project at `~/Julia/QMSim.jl/examples`\n"
     ]
    }
   ],
   "source": [
    "# activate the examples environment\n",
    "import Pkg;\n",
    "Pkg.activate(@__DIR__)\n",
    "# Pkg.add(\"Term\")\n",
    "# Pkg.resolve()\n",
    "# Pkg.instantiate()\n",
    "# Pkg.precompile()\n",
    "# Pkg.update()"
   ]
  },
  {
   "cell_type": "code",
   "execution_count": 3,
   "id": "f2a28f6b",
   "metadata": {},
   "outputs": [],
   "source": [
    "ENV[\"COLUMNS\"] = 160\n",
    "\n",
    "using Revise\n",
    "using SparseArrays, LinearAlgebra\n",
    "\n",
    "using QGas.NumericalTools.ArrayDimensions: Dimensions\n",
    "\n",
    "using QMSim"
   ]
  },
  {
   "cell_type": "markdown",
   "id": "fa03ac66",
   "metadata": {},
   "source": [
    "## Demonstrate the creation of some simple rules"
   ]
  },
  {
   "cell_type": "code",
   "execution_count": 7,
   "id": "dba76eae",
   "metadata": {},
   "outputs": [
    {
     "data": {
      "text/plain": [
       "ExplicitRule{Diagonal{ComplexF64, Vector{ComplexF64}}}(ComplexF64[1.0 + 0.0im 0.0 + 0.0im … 0.0 + 0.0im 0.0 + 0.0im; 0.0 + 0.0im 2.0 + 0.0im … 0.0 + 0.0im 0.0 + 0.0im; … ; 0.0 + 0.0im 0.0 + 0.0im … 4.0 + 0.0im 0.0 + 0.0im; 0.0 + 0.0im 0.0 + 0.0im … 0.0 + 0.0im 5.0 + 0.0im])"
      ]
     },
     "metadata": {},
     "output_type": "display_data"
    }
   ],
   "source": [
    "    function ham_tunneling(x, y; J=1.0)\n",
    "        return -J\n",
    "    end\n",
    "\n",
    "    RelativeRule(ham_tunneling, [1,])\n",
    "    ExplicitRule( Diagonal(collect(1:5) .+ 0.0im) )"
   ]
  },
  {
   "cell_type": "markdown",
   "id": "2f8b76e4",
   "metadata": {},
   "source": [
    "## Demonstrate the overall setup of a matrix\n",
    "\n",
    "This does not solve any problems."
   ]
  },
  {
   "cell_type": "code",
   "execution_count": null,
   "id": "c1a27d39",
   "metadata": {},
   "outputs": [
    {
     "data": {
      "text/plain": [
       "5×5 MatrixWithRules{ComplexF64, SparseMatrixCSC{ComplexF64}}:\n",
       "  1.0+0.0im  -2.0+0.0im   0.0+0.0im   0.0+0.0im  -2.0+0.0im\n",
       " -2.0+0.0im   2.0+0.0im  -2.0+0.0im   0.0+0.0im   0.0+0.0im\n",
       "  0.0+0.0im  -2.0+0.0im   3.0+0.0im  -2.0+0.0im   0.0+0.0im\n",
       "  0.0+0.0im   0.0+0.0im  -2.0+0.0im   4.0+0.0im  -2.0+0.0im\n",
       " -2.0+0.0im   0.0+0.0im   0.0+0.0im  -2.0+0.0im   5.0+0.0im"
      ]
     },
     "metadata": {},
     "output_type": "display_data"
    }
   ],
   "source": [
    "# create an array of physical dimensions for our quantum system to live in, including an example with two space and one spin dimensions\n",
    "\n",
    "dims = Dimensions(\n",
    "    DimensionWithSpace(; x0=-10.0, dx=1.0, npnts=5, unit=\"X Momentum\", periodic=true, spatial=true),\n",
    "    # DimensionWithSpace(; x0=-1.0, dx=1.0, npnts=3, unit=\"Spin\", periodic=true, spatial=true),\n",
    ")\n",
    "\n",
    "\"\"\"\n",
    "    build_rules!(mwr::MatrixWithRules)\n",
    "\n",
    "add required rules to the matrix\n",
    "\"\"\"\n",
    "function build_rules!(mwr::MatrixWithRules)\n",
    "\n",
    "    function ham_tunneling(x, y; J=1.0)\n",
    "        return -J\n",
    "    end\n",
    "\n",
    "    add_rule!(mwr, RelativeRule, ham_tunneling, [1,])\n",
    "    add_rule!(mwr, RelativeRule, ham_tunneling, [-1,])\n",
    "    add_rule!(mwr, ExplicitRule, Diagonal(collect(1:5) .+ 0.0im))\n",
    "    return mwr\n",
    "end\n",
    "\n",
    "# See how we define the type of the matrix we want!\n",
    "mwr = MatrixWithRules(SparseMatrixCSC{ComplexF64}, dims)\n",
    "\n",
    "build_rules!(mwr)\n",
    "\n",
    "generate_builders!(mwr)\n",
    "\n",
    "build!(mwr; J=2.0)\n",
    "\n",
    "mwr"
   ]
  },
  {
   "cell_type": "markdown",
   "id": "56c66d77",
   "metadata": {},
   "source": [
    "Now we do the same thing, but for more than one matrix:"
   ]
  },
  {
   "cell_type": "code",
   "execution_count": 4,
   "id": "7e8196e8",
   "metadata": {},
   "outputs": [
    {
     "data": {
      "text/plain": [
       "5×5 SparseMatrixCSC{ComplexF64, Int64} with 15 stored entries:\n",
       "  1.0+0.0im  -2.0+0.0im       ⋅           ⋅      -2.0+0.0im\n",
       " -2.0+0.0im   2.0+0.0im  -2.0+0.0im       ⋅           ⋅    \n",
       "      ⋅      -2.0+0.0im   3.0+0.0im  -2.0+0.0im       ⋅    \n",
       "      ⋅           ⋅      -2.0+0.0im   4.0+0.0im  -2.0+0.0im\n",
       " -2.0+0.0im       ⋅           ⋅      -2.0+0.0im   5.0+0.0im"
      ]
     },
     "metadata": {},
     "output_type": "display_data"
    }
   ],
   "source": [
    "mwrs = MatricesWithRules(SparseMatrixCSC{ComplexF64}, dims)\n",
    "\n",
    "add_matrix!(mwrs, :tunneling)\n",
    "add_matrix!(mwrs, :potential)\n",
    "\n",
    "function ham_tunneling(x, y; J=1.0)\n",
    "    return -J\n",
    "end\n",
    "\n",
    "add_rule!(mwrs, :tunneling, RelativeRule, ham_tunneling, [1,])\n",
    "add_rule!(mwrs, :tunneling, RelativeRule, ham_tunneling, [-1,])\n",
    "add_rule!(mwrs, :potential, ExplicitRule, Diagonal(collect(1:5) .+ 0.0im))\n",
    "\n",
    "generate_builders!(mwrs)\n",
    "\n",
    "build!(mwrs; J=2.0)\n",
    "\n",
    "mwrs.matrix"
   ]
  },
  {
   "cell_type": "code",
   "execution_count": 12,
   "id": "83aaa0be",
   "metadata": {},
   "outputs": [
    {
     "data": {
      "text/plain": [
       "5×5 SparseMatrixCSC{ComplexF64, Int64} with 15 stored entries:\n",
       "  1.0+0.0im  -2.0+0.0im       ⋅           ⋅      -2.0+0.0im\n",
       " -2.0+0.0im   2.0+0.0im  -2.0+0.0im       ⋅           ⋅    \n",
       "      ⋅      -2.0+0.0im   3.0+0.0im  -2.0+0.0im       ⋅    \n",
       "      ⋅           ⋅      -2.0+0.0im   4.0+0.0im  -2.0+0.0im\n",
       " -2.0+0.0im       ⋅           ⋅      -2.0+0.0im   5.0+0.0im"
      ]
     },
     "metadata": {},
     "output_type": "display_data"
    }
   ],
   "source": [
    "mwrs = MatricesWithRules(SparseMatrixCSC{ComplexF64}, dims)\n",
    "\n",
    "add_matrix!(mwrs, :tunneling)\n",
    "add_matrix!(mwrs, :potential)\n",
    "\n",
    "function ham_tunneling(x, y; J=1.0)\n",
    "    return -J\n",
    "end\n",
    "\n",
    "add_rule!(mwrs, :tunneling, RelativeRule, ham_tunneling, [1,])\n",
    "add_rule!(mwrs, :tunneling, RelativeRule, ham_tunneling, [-1,])\n",
    "add_rule!(mwrs, :potential, ExplicitRule, Diagonal(collect(1:5) .+ 0.0im))\n",
    "\n",
    "set_default_kwargs!(mwrs, :tunneling; J=4.0)\n",
    "\n",
    "generate_builders!(mwrs)\n",
    "\n",
    "build!(mwrs; J=2.0)\n",
    "\n",
    "mwrs.matrix"
   ]
  },
  {
   "cell_type": "markdown",
   "id": "cf5dd4ce",
   "metadata": {},
   "source": [
    "At this point this is not all that useful, but the main point is that with slightly more syntactic sugar we can write code to define pretty much any physics problem!"
   ]
  },
  {
   "cell_type": "markdown",
   "id": "260e8865",
   "metadata": {},
   "source": [
    "## Solve specific problems\n",
    "\n",
    "The existing code already encapsulates any abstract matrix.  There is some work required to make this work efficiently for both dense and sparse matrices.\n",
    "\n",
    "Here is an example for a dense matrix including performance profiling"
   ]
  },
  {
   "cell_type": "code",
   "execution_count": null,
   "id": "faa9d01c",
   "metadata": {},
   "outputs": [
    {
     "data": {
      "text/plain": [
       "5001-element Vector{ComplexF64}:\n",
       " -4.4064830822505436e-16 + 0.0im\n",
       "    3.157010062427297e-6 + 0.0im\n",
       "   3.1570100632255443e-6 + 0.0im\n",
       "   1.2628035266754423e-5 + 0.0im\n",
       "   1.2628035267677318e-5 + 0.0im\n",
       "    2.841306066284507e-5 + 0.0im\n",
       "   2.8413060663925683e-5 + 0.0im\n",
       "    5.051206133419378e-5 + 0.0im\n",
       "   5.0512061335232256e-5 + 0.0im\n",
       "    7.892500239699925e-5 + 0.0im\n",
       "                         ⋮\n",
       "       7.999936070708113 + 0.0im\n",
       "       7.999961326683964 + 0.0im\n",
       "       7.999961326683964 + 0.0im\n",
       "       7.999980268700735 + 0.0im\n",
       "       7.999980268700735 + 0.0im\n",
       "       7.999992896728527 + 0.0im\n",
       "       7.999992896728527 + 0.0im\n",
       "       7.999999210747406 + 0.0im\n",
       "       7.999999210747406 + 0.0im"
      ]
     },
     "metadata": {},
     "output_type": "display_data"
    }
   ],
   "source": [
    "dims = Dimensions(\n",
    "    DimensionWithSpace(; x0=-10.0, dx=1.0, npnts=5001, unit=\"X Momentum\", periodic=true, spatial=true),\n",
    ")\n",
    "\n",
    "qms = QMSolver(Matrix{ComplexF64}, dims; num_states=6, wrap=Hermitian)\n",
    "\n",
    "add_matrix!(qms, :tunneling)\n",
    "add_matrix!(qms, :potential)\n",
    "add_rule!(qms, :potential, ExplicitRule, Diagonal(4 .* ones(ComplexF64, 5001)))\n",
    "\n",
    "function ham_tunneling(x, y; J=1.0)\n",
    "    return -J\n",
    "end\n",
    "\n",
    "add_rule!(qms, :tunneling, RelativeRule, ham_tunneling, [1,])\n",
    "add_rule!(qms, :tunneling, RelativeRule, ham_tunneling, [-1,])\n",
    "\n",
    "generate_builders!(qms)\n",
    "\n",
    "eigensystem!(qms; J=2.0)\n",
    "qms.eigenvalues"
   ]
  },
  {
   "cell_type": "code",
   "execution_count": null,
   "id": "3943613c",
   "metadata": {},
   "outputs": [
    {
     "data": {
      "text/plain": [
       "50-element Vector{ComplexF64}:\n",
       " 1.5248184832292898e-16 + 0.0im\n",
       "   3.157010062542175e-6 + 0.0im\n",
       "   3.157010062709666e-6 + 0.0im\n",
       "  1.2628035266956139e-5 + 0.0im\n",
       "  1.2628035266982345e-5 + 0.0im\n",
       "   2.841306066309335e-5 + 0.0im\n",
       "  2.8413060663251837e-5 + 0.0im\n",
       "   5.051206133433723e-5 + 0.0im\n",
       "   5.051206133484585e-5 + 0.0im\n",
       "   7.892500239755684e-5 + 0.0im\n",
       "                        ⋮\n",
       "  0.0013921608585866138 + 0.0im\n",
       "  0.0013921608585869382 + 0.0im\n",
       "  0.0015278957919843872 + 0.0im\n",
       "  0.0015278957919847322 + 0.0im\n",
       "  0.0016699423337169562 + 0.0im\n",
       "  0.0016699423337193228 + 0.0im\n",
       "  0.0018183002595615729 + 0.0im\n",
       "  0.0018183002595625866 + 0.0im\n",
       "   0.001972969335335496 + 0.0im"
      ]
     },
     "metadata": {},
     "output_type": "display_data"
    }
   ],
   "source": [
    "dims = Dimensions(\n",
    "    DimensionWithSpace(; x0=-10.0, dx=1.0, npnts=5001, unit=\"X Momentum\", periodic=true, spatial=true),\n",
    ")\n",
    "\n",
    "qms = QMSolver(SparseMatrixCSC{ComplexF64}, dims; num_states=50, wrap=Hermitian)\n",
    "\n",
    "add_matrix!(qms, :tunneling)\n",
    "add_matrix!(qms, :potential)\n",
    "\n",
    "function ham_tunneling(x, y; J=1.0)\n",
    "    return -J\n",
    "end\n",
    "\n",
    "add_rule!(qms, :tunneling, RelativeRule, ham_tunneling, [1,])\n",
    "add_rule!(qms, :tunneling, RelativeRule, ham_tunneling, [-1,])\n",
    "add_rule!(qms, :potential, ExplicitRule, Diagonal(4 .* ones(ComplexF64, 5001)))\n",
    "\n",
    "generate_builders!(qms)\n",
    "\n",
    "eigensystem!(qms; J=2.0)\n",
    "qms.eigenvalues"
   ]
  },
  {
   "cell_type": "code",
   "execution_count": null,
   "id": "c9ee19d7",
   "metadata": {},
   "outputs": [
    {
     "ename": "Base.Meta.ParseError",
     "evalue": "ParseError:\n# Error @ /Users/ispielma/Julia/QMSim.jl/examples/jl_notebook_cell_df34fa98e69747e1a8f8a730347b8e2f_X20sZmlsZQ==.jl:39:4\n\nend\n#  └ ── Expected `end`",
     "output_type": "error",
     "traceback": [
      "ParseError:\n",
      "# Error @ /Users/ispielma/Julia/QMSim.jl/examples/jl_notebook_cell_df34fa98e69747e1a8f8a730347b8e2f_X20sZmlsZQ==.jl:39:4\n",
      "\n",
      "end\n",
      "#  └ ── Expected `end`\n",
      "\n",
      "Stacktrace:\n",
      " [1] top-level scope\n",
      "   @ ~/Julia/QMSim.jl/examples/jl_notebook_cell_df34fa98e69747e1a8f8a730347b8e2f_X20sZmlsZQ==.jl:39"
     ]
    }
   ],
   "source": [
    "## Demonstrate how to create a new type of QMSolver for a specific problem\n",
    "\n",
    "module Npod\n",
    "\n",
    "using QMSim\n",
    "\n",
    "\"\"\"\n",
    "    NpodSolver <: AbstractMatrixSolver\n",
    "\n",
    "A subtype of `AbstractMatrixSolver` that setups and solves the N-pod problem.  This describes two-level atom, a lambda-scheme, a tripod, and anything with one level coupled to N-sub-levels. \n",
    "\"\"\"\n",
    "struct NpodSolver{T, AbstractMatrix{T}} <: AbstractMatrixSolver{T,M}\n",
    "    qms::QMSolver(T, M)\n",
    "    N::Int # number of sub-levels (caps by convention here)\n",
    "end\n",
    "function NpodSolver(N::Int, args...; kwargs...) where {T, M<:AbstractMatrix{T}}\n",
    "    adims = DimensionWithSpace(; x0=0, dx=1.0, npnts=N+1, unit=\"Internal state\", periodic=false, spatial=false),\n",
    "\n",
    "    qms = QMSolver(Matrix{ComplexF64}, adims, args...; wrap=Hermitian, kwargs...)\n",
    "\n",
    "    NpodSolver(qms, N)\n",
    "end\n",
    "\n",
    "\n",
    "# Still need to define accessing methods here.  Maybe what I really want is a standard where these solvers all have qms defined.\n",
    "\n",
    "\"\"\"\n",
    "    error_checks(nps::NpodSolver)\n",
    "\n",
    "This will check that the N-pod solver is setup correctly.\n",
    "\"\"\"\n",
    "function error_check(nps::NpodSolver)\n",
    "    if dims(nps) != 1\n",
    "        throw(ArgumentError(\"N-pod solver must have a single dimension\"))\n",
    "    end\n",
    "end\n",
    "\n",
    "\"\"\"\n",
    "    build_rules!(nps::NpodSolver)\n",
    "\n",
    "This will configure all the rules for the N-pod solver.  We assume that the first\n",
    "state in the basis is the state which is coupled to the remaining levels.\n",
    "\"\"\"\n",
    "function build_rules!(nps::NpodSolver)\n",
    "\n",
    "    add_matrix!(nps, :hamiltonian)\n",
    "\n",
    "    function coupling(x0, x1; Ωs...)\n",
    "        Δ = x0[1] - x1[1]\n",
    "        Ω = Δ > 0 ? Ωs[Δ] : conj(Ωs[-Δ])\n",
    "        return Ω\n",
    "    end\n",
    "\n",
    "    i = 1\n",
    "    for j in 2:nps.N\n",
    "        add_rule!(qms, :hamiltonian, ElementRule, coupling, [i,], [j,])\n",
    "        add_rule!(qms, :hamiltonian, ElementRule, coupling, [j,], [i,])\n",
    "    end\n",
    "\n",
    "    set_default_kwargs!(mwrs, :hamiltonian; J=4.0)\n",
    "\n",
    "end"
   ]
  },
  {
   "cell_type": "code",
   "execution_count": 14,
   "id": "30903242",
   "metadata": {},
   "outputs": [],
   "source": []
  },
  {
   "cell_type": "code",
   "execution_count": 15,
   "id": "c6fd0c3d",
   "metadata": {},
   "outputs": [],
   "source": []
  },
  {
   "cell_type": "code",
   "execution_count": null,
   "id": "3759bf9d",
   "metadata": {},
   "outputs": [],
   "source": []
  }
 ],
 "metadata": {
  "kernelspec": {
   "display_name": "Julia 1.11.5",
   "language": "julia",
   "name": "julia-1.11"
  },
  "language_info": {
   "file_extension": ".jl",
   "mimetype": "application/julia",
   "name": "julia",
   "version": "1.11.5"
  }
 },
 "nbformat": 4,
 "nbformat_minor": 5
}
